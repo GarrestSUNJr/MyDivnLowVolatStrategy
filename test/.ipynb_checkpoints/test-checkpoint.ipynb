{
 "cells": [
  {
   "cell_type": "code",
   "execution_count": 1,
   "metadata": {},
   "outputs": [
    {
     "ename": "ModuleNotFoundError",
     "evalue": "No module named 'iFinDPy'",
     "output_type": "error",
     "traceback": [
      "\u001b[1;31m---------------------------------------------------------------------------\u001b[0m",
      "\u001b[1;31mModuleNotFoundError\u001b[0m                       Traceback (most recent call last)",
      "Cell \u001b[1;32mIn[1], line 1\u001b[0m\n\u001b[1;32m----> 1\u001b[0m \u001b[38;5;28;01mfrom\u001b[39;00m \u001b[38;5;21;01mstock_selector\u001b[39;00m \u001b[38;5;28;01mimport\u001b[39;00m DataFetcher, DataCleaner, DataHandler, StockSelector\n\u001b[0;32m      2\u001b[0m \u001b[38;5;28;01mimport\u001b[39;00m \u001b[38;5;21;01mnumpy\u001b[39;00m \u001b[38;5;28;01mas\u001b[39;00m \u001b[38;5;21;01mnp\u001b[39;00m\n\u001b[0;32m      3\u001b[0m \u001b[38;5;28;01mimport\u001b[39;00m \u001b[38;5;21;01mpandas\u001b[39;00m \u001b[38;5;28;01mas\u001b[39;00m \u001b[38;5;21;01mpd\u001b[39;00m\n",
      "File \u001b[1;32m~\\jupyter\\MFE5210AlgoTrad\\Strategy_Div.Lv-master\\Strategy_1-master\\tools\\stock_selector.py:4\u001b[0m\n\u001b[0;32m      2\u001b[0m \u001b[38;5;28;01mimport\u001b[39;00m \u001b[38;5;21;01mnumpy\u001b[39;00m \u001b[38;5;28;01mas\u001b[39;00m \u001b[38;5;21;01mnp\u001b[39;00m\n\u001b[0;32m      3\u001b[0m \u001b[38;5;28;01mfrom\u001b[39;00m \u001b[38;5;21;01mtyping\u001b[39;00m \u001b[38;5;28;01mimport\u001b[39;00m List, Union\n\u001b[1;32m----> 4\u001b[0m \u001b[38;5;28;01mfrom\u001b[39;00m \u001b[38;5;21;01miFinDPy\u001b[39;00m \u001b[38;5;28;01mimport\u001b[39;00m \u001b[38;5;241m*\u001b[39m\n\u001b[0;32m      5\u001b[0m \u001b[38;5;28;01mfrom\u001b[39;00m \u001b[38;5;21;01msqlalchemy\u001b[39;00m \u001b[38;5;28;01mimport\u001b[39;00m create_engine\n\u001b[0;32m      6\u001b[0m \u001b[38;5;28;01mimport\u001b[39;00m \u001b[38;5;21;01msys\u001b[39;00m\n",
      "\u001b[1;31mModuleNotFoundError\u001b[0m: No module named 'iFinDPy'"
     ]
    }
   ],
   "source": [
    "from stock_selector import DataFetcher, DataCleaner, DataHandler, StockSelector\n",
    "import numpy as np\n",
    "import pandas as pd\n",
    "import sys\n",
    "import os"
   ]
  },
  {
   "cell_type": "code",
   "execution_count": null,
   "metadata": {},
   "outputs": [],
   "source": [
    "dataFetcher = DataFetcher()\n",
    "dataHandler = DataHandler()\n",
    "data_file_path = os.path.join(os.path.dirname(os.getcwd()), 'data')\n",
    "base_pool = pd.read_csv(data_file_path + '//codes_map.csv')\n",
    "calender = dataFetcher.get_calender_data('2014-01-01', '2023-08-01', endlevel=[(1,2), (1), (1,2), (1,2)])"
   ]
  },
  {
   "cell_type": "code",
   "execution_count": null,
   "metadata": {},
   "outputs": [],
   "source": [
    "mv_data = pd.read_csv(data_file_path + '//daily_avg_mv_data.csv')\n",
    "mv_data = mv_data.set_index('wind_code')\n",
    "turnoverV_data = pd.read_csv(data_file_path + '//daily_avg_turnoverV_data.csv')\n",
    "turnoverV_data = turnoverV_data.set_index('wind_code')\n",
    "mv_rank = DataHandler().top_rank(mv_data, 0.8)\n",
    "turnoverV_rank = DataHandler().top_rank(turnoverV_data, 0.8)\n",
    "dividend_rank = pd.read_csv(data_file_path + '//dividend_index_data.csv')\n",
    "dividend_rank = dividend_rank.set_index('wind_code')\n",
    "dividend_rank = dividend_rank.apply(lambda col: col[col==1].index).apply(pd.Series).T\n",
    "stock_pool = []\n",
    "for i in range(115):\n",
    "    common_stocks = np.intersect1d(mv_rank.iloc[:,i].dropna(), np.intersect1d(turnoverV_rank.iloc[:,i].dropna(), dividend_rank.iloc[:,i].dropna()))\n",
    "    stock_pool.append(common_stocks)\n",
    "final_result = pd.DataFrame(stock_pool).T"
   ]
  },
  {
   "cell_type": "code",
   "execution_count": null,
   "metadata": {},
   "outputs": [],
   "source": [
    "final_result.to_csv(\"Base_Pool_1.csv\")"
   ]
  },
  {
   "cell_type": "code",
   "execution_count": null,
   "metadata": {},
   "outputs": [],
   "source": [
    "data_file_path = os.path.join(os.path.dirname(os.getcwd()), 'data')\n",
    "payratio_data = pd.read_csv(data_file_path + '//payratio_data.csv')\n",
    "dividend_delta_data = pd.read_csv(data_file_path + '//dividend_delta_data.csv')"
   ]
  },
  {
   "cell_type": "code",
   "execution_count": null,
   "metadata": {},
   "outputs": [],
   "source": [
    "def filter_1(base_pool: pd.DataFrame, payratio_data: pd.DataFrame, dividend_delta_data: pd.DataFrame, ratio: float = 0.05):\n",
    "    filter_stocks = []\n",
    "    payratio_data = payratio_data.set_index('wind_code')\n",
    "    for date in base_pool.columns:\n",
    "        base_stocks = base_pool[date].dropna()\n",
    "        positive_dividend_growth = dividend_delta_data[(dividend_delta_data['year'] == int(date[:4])) & (dividend_delta_data['dividendps'] > 0)]['wind_code'].unique()\n",
    "        filter_1 = np.intersect1d(base_stocks, positive_dividend_growth)\n",
    "        sorted_stocks = payratio_data[date].dropna().sort_values(ascending=False)\n",
    "        top_5_percent_count = int(len(sorted_stocks) * ratio)\n",
    "        payratio_selected_stocks = sorted_stocks.iloc[top_5_percent_count:].index\n",
    "        filter_2 = np.intersect1d(base_stocks, payratio_selected_stocks)\n",
    "        final_filter =np.intersect1d(filter_1, filter_2)\n",
    "        filter_stocks.append(pd.Series(final_filter, name=date))\n",
    "    df = pd.concat(filter_stocks, axis=1)\n",
    "    return df\n"
   ]
  },
  {
   "cell_type": "code",
   "execution_count": null,
   "metadata": {},
   "outputs": [],
   "source": [
    "conn = DataFetcher().conn\n",
    "query = \"SELECT TradingDay, DividendRatioLYR, DividendRatio FROM LC_DIndicesForValuation WHERE Innercode = 3\"\n",
    "df = pd.read_sql(query, conn)"
   ]
  },
  {
   "cell_type": "code",
   "execution_count": null,
   "metadata": {},
   "outputs": [],
   "source": [
    "df[df['tradingday'] >= '2014-01-30']"
   ]
  },
  {
   "cell_type": "code",
   "execution_count": null,
   "metadata": {},
   "outputs": [],
   "source": []
  }
 ],
 "metadata": {
  "kernelspec": {
   "display_name": "Python 3 (ipykernel)",
   "language": "python",
   "name": "python3"
  },
  "language_info": {
   "codemirror_mode": {
    "name": "ipython",
    "version": 3
   },
   "file_extension": ".py",
   "mimetype": "text/x-python",
   "name": "python",
   "nbconvert_exporter": "python",
   "pygments_lexer": "ipython3",
   "version": "3.11.4"
  }
 },
 "nbformat": 4,
 "nbformat_minor": 2
}
