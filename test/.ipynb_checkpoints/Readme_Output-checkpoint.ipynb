{
 "cells": [
  {
   "cell_type": "markdown",
   "id": "5e5fda2b",
   "metadata": {},
   "source": [
    "After testing my codes with limited student access on iFinD, I made minor adjustments and migrated them on JoinQunt Platform to run free backtest freely. Here are some examples of changes:\n",
    "\n",
    "Change the codes like,\n",
    "...\n",
    "from iFinDPy import *\n",
    "import concept_helper as cp\n",
    "...\n",
    "\n",
    "into\n",
    "\n",
    "from jqdata import *\n",
    "from jqfactor import Factor, calc_factors\n",
    "import datetime\n",
    "...\n",
    "\n",
    "The backtest result could be seen as follow:"
   ]
  }
 ],
 "metadata": {
  "kernelspec": {
   "display_name": "Python 3 (ipykernel)",
   "language": "python",
   "name": "python3"
  },
  "language_info": {
   "codemirror_mode": {
    "name": "ipython",
    "version": 3
   },
   "file_extension": ".py",
   "mimetype": "text/x-python",
   "name": "python",
   "nbconvert_exporter": "python",
   "pygments_lexer": "ipython3",
   "version": "3.11.4"
  }
 },
 "nbformat": 4,
 "nbformat_minor": 5
}
